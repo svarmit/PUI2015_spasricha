{
 "cells": [
  {
   "cell_type": "markdown",
   "metadata": {},
   "source": [
    "Assignment 1 : Distributions\n",
    "\n",
    "Following the ipython notebook \n",
    "https://github.com/fedhere/PUI2015_fbianco/blob/master/citibikes/citibikes_compare_distributions.ipynb\n",
    "\n",
    "Test the correlation of the age distribution of Male vs Female riders and of day vs night riders\n",
    "\n",
    "Use: age of bikers for male and age of bikers for female gender for whichever month, or set of months you choose. \n",
    "test the correlation/independence of the 2 samples using: \n",
    "Pearson’s test (answer: are the 2 samples correlated?)\n",
    "Spearman’s test (answer: are the 2 samples correlated?)\n",
    "K-S test (answer: are the samples likely to come from the same parent distribution?) \n",
    "State in words what the tests tell you.\n",
    "\n",
    "Use: age of bikers during the day and during the night hours for the same sample .\n",
    "Test the correlation/independence of the 2 samples using the same tests.\n",
    "State in words what the tests tell you.\n",
    "\n",
    "Extra credit: code up your own version of the KS test and compare your result with the one obtained from scipy.stats.ks_2sample\n"
   ]
  },
  {
   "cell_type": "code",
   "execution_count": 2,
   "metadata": {
    "collapsed": false
   },
   "outputs": [
    {
     "name": "stdout",
     "output_type": "stream",
     "text": [
      "Populating the interactive namespace from numpy and matplotlib\n"
     ]
    }
   ],
   "source": [
    "import pylab as pl\n",
    "import pandas as pd\n",
    "import numpy as np\n",
    "import matplotlib.pyplot as plt\n",
    "import os\n",
    "import json\n",
    "import scipy.stats\n",
    "%pylab inline\n"
   ]
  },
  {
   "cell_type": "code",
   "execution_count": 3,
   "metadata": {
    "collapsed": false
   },
   "outputs": [],
   "source": [
    "#s = json.load(open(os.getenv ('PUI2015')+\"/fbb_matplotlibrc.json\") )\n"
   ]
  },
  {
   "cell_type": "code",
   "execution_count": 4,
   "metadata": {
    "collapsed": false
   },
   "outputs": [],
   "source": [
    "#df = pd.read_csv(os.getenv('PUI2015')+\"/201506-citibike-tripdata.csv\",parse_dates=['birth year'])\n",
    "df = pd.read_csv(os.getenv('PUI2015')+\"/201506-citibike-tripdata.csv\")"
   ]
  },
  {
   "cell_type": "code",
   "execution_count": null,
   "metadata": {
    "collapsed": false
   },
   "outputs": [],
   "source": []
  },
  {
   "cell_type": "code",
   "execution_count": 6,
   "metadata": {
    "collapsed": false
   },
   "outputs": [
    {
     "data": {
      "text/plain": [
       "numpy.float64"
      ]
     },
     "execution_count": 6,
     "metadata": {},
     "output_type": "execute_result"
    }
   ],
   "source": [
    "type(df['birth year'][1])\n"
   ]
  },
  {
   "cell_type": "code",
   "execution_count": 7,
   "metadata": {
    "collapsed": true
   },
   "outputs": [],
   "source": [
    "df['age']=2015-(df['birth year'])"
   ]
  },
  {
   "cell_type": "code",
   "execution_count": 52,
   "metadata": {
    "collapsed": false
   },
   "outputs": [
    {
     "name": "stdout",
     "output_type": "stream",
     "text": [
      "count    621580.000000\n",
      "mean         39.113612\n",
      "std          11.483732\n",
      "min          16.000000\n",
      "25%          30.000000\n",
      "50%          37.000000\n",
      "75%          47.000000\n",
      "max         130.000000\n",
      "Name: ageM, dtype: float64\n",
      "\n",
      "count    188655.000000\n",
      "mean         37.509560\n",
      "std          11.221308\n",
      "min          16.000000\n",
      "25%          29.000000\n",
      "50%          34.000000\n",
      "75%          46.000000\n",
      "max         114.000000\n",
      "Name: ageF, dtype: float64\n"
     ]
    }
   ],
   "source": [
    "#Age of male\n",
    "df['ageM']=(df['age'][(df['usertype'] == 'Subscriber') & (df['gender'] == 1 )])\n",
    "#print (df['ageM'])\n",
    "df['ageF']=(df['age'][(df['usertype'] == 'Subscriber') & (df['gender'] == 2 )])\n",
    "#print (df['ageF'])\n",
    "\n",
    "#print len(df['ageM'])\n",
    "#print len(df['ageF'])\n",
    "\n",
    "print  (df['ageM'].describe())\n",
    "print \"\"\n",
    "print  (df['ageF'].describe())\n"
   ]
  },
  {
   "cell_type": "code",
   "execution_count": 31,
   "metadata": {
    "collapsed": false
   },
   "outputs": [
    {
     "name": "stdout",
     "output_type": "stream",
     "text": [
      "          count_nonzero\n",
      "ageM                   \n",
      "(10, 20]           5714\n",
      "(20, 30]         162978\n",
      "(30, 40]         201044\n",
      "(40, 50]         138075\n",
      "(50, 60]          84172\n",
      "(60, 70]          26125\n",
      "(70, 80]           3218\n",
      "(80, 90]             43\n"
     ]
    },
    {
     "data": {
      "image/png": "[encoded data removed]",
      "text/plain": [
       "<matplotlib.figure.Figure at 0x106e92090>"
      ]
     },
     "metadata": {},
     "output_type": "display_data"
    }
   ],
   "source": [
    "bins = np.arange(10, 99, 10)\n",
    "plt.plot((df.ageM.groupby(pd.cut(df['ageM'],bins))).agg([count_nonzero]))\n",
    "\n",
    "print ((df.ageM.groupby(pd.cut(df['ageM'],bins))).agg([count_nonzero]))\n"
   ]
  },
  {
   "cell_type": "code",
   "execution_count": 63,
   "metadata": {
    "collapsed": false
   },
   "outputs": [
    {
     "data": {
      "text/html": [
       "<div>\n",
       "<table border=\"1\" class=\"dataframe\">\n",
       "  <thead>\n",
       "    <tr style=\"text-align: right;\">\n",
       "      <th></th>\n",
       "      <th>count_nonzero</th>\n",
       "    </tr>\n",
       "  </thead>\n",
       "  <tbody>\n",
       "    <tr>\n",
       "      <th>count</th>\n",
       "      <td>8.000000</td>\n",
       "    </tr>\n",
       "    <tr>\n",
       "      <th>mean</th>\n",
       "      <td>23581.500000</td>\n",
       "    </tr>\n",
       "    <tr>\n",
       "      <th>std</th>\n",
       "      <td>26121.179874</td>\n",
       "    </tr>\n",
       "    <tr>\n",
       "      <th>min</th>\n",
       "      <td>58.000000</td>\n",
       "    </tr>\n",
       "    <tr>\n",
       "      <th>25%</th>\n",
       "      <td>1420.250000</td>\n",
       "    </tr>\n",
       "    <tr>\n",
       "      <th>50%</th>\n",
       "      <td>15278.500000</td>\n",
       "    </tr>\n",
       "    <tr>\n",
       "      <th>75%</th>\n",
       "      <td>40576.750000</td>\n",
       "    </tr>\n",
       "    <tr>\n",
       "      <th>max</th>\n",
       "      <td>62145.000000</td>\n",
       "    </tr>\n",
       "  </tbody>\n",
       "</table>\n",
       "</div>"
      ],
      "text/plain": [
       "       count_nonzero\n",
       "count       8.000000\n",
       "mean    23581.500000\n",
       "std     26121.179874\n",
       "min        58.000000\n",
       "25%      1420.250000\n",
       "50%     15278.500000\n",
       "75%     40576.750000\n",
       "max     62145.000000"
      ]
     },
     "execution_count": 63,
     "metadata": {},
     "output_type": "execute_result"
    },
    {
     "data": {
      "image/png": "[encoded data removed]",
      "text/plain": [
       "<matplotlib.figure.Figure at 0x10a00d690>"
      ]
     },
     "metadata": {},
     "output_type": "display_data"
    },
    {
     "data": {
      "image/png": "[encoded data removed]",
      "text/plain": [
       "<matplotlib.figure.Figure at 0x10a48a710>"
      ]
     },
     "metadata": {},
     "output_type": "display_data"
    }
   ],
   "source": [
    "bins = np.arange(10, 99, 10)\n",
    "df.ageM.groupby(pd.cut(df.ageM, bins)).agg([count_nonzero]).plot(kind='bar')\n",
    "df.ageF.groupby(pd.cut(df.ageF, bins)).agg([count_nonzero]).plot(kind='bar')\n",
    "df_m_c = df.ageM.groupby(pd.cut(df.ageM, bins)).agg([count_nonzero])\n",
    "df_f_c = df.ageF.groupby(pd.cut(df.ageF, bins)).agg([count_nonzero])\n",
    "\n",
    "#df_m_c.describe()\n",
    "#df_f_c.describe()"
   ]
  },
  {
   "cell_type": "markdown",
   "metadata": {},
   "source": [
    "This tests whether 2 samples are drawn from the same distribution. Note that, like in the case of the one-sample K-S test, the distribution is assumed to be continuous.\n",
    "\n",
    "This is the two-sided test, one-sided tests are not implemented. The test uses the two-sided asymptotic Kolmogorov-Smirnov distribution.\n",
    "\n",
    "If the K-S statistic is small or the p-value is high, then we cannot reject the hypothesis that the distributions of the two samples are the same."
   ]
  },
  {
   "cell_type": "code",
   "execution_count": 67,
   "metadata": {
    "collapsed": false
   },
   "outputs": [
    {
     "name": "stdout",
     "output_type": "stream",
     "text": [
      "df male aggCum   ageM\n",
      "(10, 20]      5714\n",
      "(20, 30]    162978\n",
      "(30, 40]    201044\n",
      "(40, 50]    138075\n",
      "(50, 60]     84172\n",
      "(60, 70]     26125\n",
      "(70, 80]      3218\n",
      "(80, 90]        43\n",
      "Name: count_nonzero, dtype: float64\n",
      "df female aggCum   ageF\n",
      "(10, 20]     1741\n",
      "(20, 30]    62145\n",
      "(30, 40]    59386\n",
      "(40, 50]    34307\n",
      "(50, 60]    25003\n",
      "(60, 70]     5554\n",
      "(70, 80]      458\n",
      "(80, 90]       58\n",
      "Name: count_nonzero, dtype: float64\n"
     ]
    },
    {
     "data": {
      "text/plain": [
       "(0.5, 0.18768427419801334)"
      ]
     },
     "execution_count": 67,
     "metadata": {},
     "output_type": "execute_result"
    }
   ],
   "source": [
    "#scipy.stats.ks_2samp this step is just to see what happens if we apply ks stats on the continous cummilative distribution.\n",
    "print 'df male aggCum  ' ,df_m_c['count_nonzero']\n",
    "print 'df female aggCum  ',df_f_c['count_nonzero']\n",
    "scipy.stats.ks_2samp(df_m_c['count_nonzero'], df_f_c['count_nonzero'])\n",
    "\n",
    "#print (len(df_m_c['count_nonzero']))\n",
    "#print (len(df_f_c['count_nonzero']))\n",
    "\n",
    "\n",
    "\n"
   ]
  },
  {
   "cell_type": "code",
   "execution_count": 37,
   "metadata": {
    "collapsed": false
   },
   "outputs": [
    {
     "data": {
      "text/plain": [
       "(0.45996202796586128, 0.0)"
      ]
     },
     "execution_count": 37,
     "metadata": {},
     "output_type": "execute_result"
    }
   ],
   "source": [
    "# To get the ks stats value for comparison with ref value \n",
    "scipy.stats.ks_2samp(df.ageM, df.ageF)\n",
    "\n",
    "\n"
   ]
  },
  {
   "cell_type": "code",
   "execution_count": 70,
   "metadata": {
    "collapsed": false
   },
   "outputs": [
    {
     "name": "stdout",
     "output_type": "stream",
     "text": [
      "ref_val =  0.0\n"
     ]
    }
   ],
   "source": [
    "# Finding the actual KS value to check from the table\n",
    "\n",
    "sum1 = n1+n2\n",
    "mul = n1*n2\n",
    "ref_val = 1.36*(sqrt(sum1/mul))\n",
    "#print 'ref value = ' ,value_o\n",
    "print 'ref_val = ',ref_val\n",
    "#print ref_val"
   ]
  },
  {
   "cell_type": "markdown",
   "metadata": {},
   "source": [
    "##Write the result of ks test in this cell\n",
    "\n",
    "\n",
    "###Result of KS test\n",
    "H0 : Both ageM and ageF are derived from the same parent distribution.\n",
    "The ks value = 0.45 and the reference value is ~0.0 => \n",
    "=>  DKS(n1,n2)<c(α)(n1+n2)n1n2\n",
    "This implies that the null hypothesis is rejected.\n"
   ]
  },
  {
   "cell_type": "markdown",
   "metadata": {},
   "source": []
  },
  {
   "cell_type": "code",
   "execution_count": 87,
   "metadata": {
    "collapsed": false
   },
   "outputs": [
    {
     "name": "stdout",
     "output_type": "stream",
     "text": [
      "          count_nonzero\n",
      "ageM                   \n",
      "(10, 20]           5714\n",
      "(20, 30]         168692\n",
      "(30, 40]         369736\n",
      "(40, 50]         507811\n",
      "(50, 60]         591983\n",
      "(60, 70]         618108\n",
      "(70, 80]         621326\n",
      "(80, 90]         621369\n",
      "          count_nonzero\n",
      "ageM                   \n",
      "(10, 20]           5714\n",
      "(20, 30]         162978\n",
      "(30, 40]         201044\n",
      "(40, 50]         138075\n",
      "(50, 60]          84172\n",
      "(60, 70]          26125\n",
      "(70, 80]           3218\n",
      "(80, 90]             43\n",
      "count_nonzero    77671.125\n",
      "dtype: float64\n",
      "count_nonzero    75492.750606\n",
      "dtype: float64\n",
      "mean  50.0\n"
     ]
    }
   ],
   "source": [
    "#print df.ageS, df.ageS.cumsum()\n",
    "\n",
    "csM=df.ageM.groupby(pd.cut(df.ageM, bins)).agg([count_nonzero]).cumsum()\n",
    "\n",
    "csF=df.ageF.groupby(pd.cut(df.ageF, bins)).agg([count_nonzero]).cumsum()\n",
    "\n",
    "#print csM\n",
    "\n",
    "#print df_m_c\n",
    "#print np.abs(csM / csM.max()-csF / csF.max())\n",
    "\n",
    "#pl.plot(bins[:-1] + 5, csM / csM.max(), label = \"M\")\n",
    "#pl.plot(bins[:-1] + 5, csF / csF.max(), label = \"F\")\n",
    "#pl.legend()\n",
    "\n",
    "bins = np.arange(10, 99, 10)\n",
    "#plt.plot((df.ageM.groupby(pd.cut(df['ageM'],bins))).agg([count_nonzero]))\n",
    "\n",
    "print mean((df.ageM.groupby(pd.cut(df['ageM'],bins))).agg([count_nonzero]))\n",
    "print std((df.ageM.groupby(pd.cut(df['ageM'],bins))).agg([count_nonzero]))\n",
    "print 'mean ',(mean(bins))\n",
    "\n"
   ]
  },
  {
   "cell_type": "markdown",
   "metadata": {},
   "source": [
    "\n"
   ]
  },
  {
   "cell_type": "markdown",
   "metadata": {
    "collapsed": true
   },
   "source": [
    "##Pearson's test for correlation\n"
   ]
  },
  {
   "cell_type": "code",
   "execution_count": 91,
   "metadata": {
    "collapsed": false
   },
   "outputs": [
    {
     "name": "stdout",
     "output_type": "stream",
     "text": [
      "941219\n",
      "941219\n"
     ]
    },
    {
     "data": {
      "text/plain": [
       "(array([ 0.97668007]), array([  3.11526172e-05]))"
      ]
     },
     "execution_count": 91,
     "metadata": {},
     "output_type": "execute_result"
    }
   ],
   "source": [
    "print len((df.ageM).fillna(0))\n",
    "print len((df.ageF).fillna(0))\n",
    "#scipy.stats.pearsonr((df.ageM).fillna(0), (df.ageF).fillna(0))\n",
    "\n",
    "\n",
    "scipy.stats.pearsonr((df_m_c).fillna(0), (df_f_c).fillna(0))\n",
    "\n",
    "#plt.bar ((df.ageM).fillna(0),(df.ageF).fillna(0))"
   ]
  },
  {
   "cell_type": "markdown",
   "metadata": {},
   "source": [
    "###Result: \n",
    "H0 : Both ageM and ageF are derived from the same parent distribution.\n",
    "\n",
    "\n",
    "The age of male and age of female are inversely correlated "
   ]
  },
  {
   "cell_type": "markdown",
   "metadata": {},
   "source": [
    "##Spearman's test for correlation"
   ]
  },
  {
   "cell_type": "code",
   "execution_count": 90,
   "metadata": {
    "collapsed": false
   },
   "outputs": [
    {
     "data": {
      "text/plain": [
       "(0.97619047619047616, 3.3143960262001457e-05)"
      ]
     },
     "execution_count": 90,
     "metadata": {},
     "output_type": "execute_result"
    }
   ],
   "source": [
    "#scipy.stats.spearmanr(df.ageM,df.ageF)\n",
    "scipy.stats.spearmanr((df_m_c).fillna(0), (df_f_c).fillna(0))\n",
    "\n",
    "#scipy.stats.spearmanr((df.ageM).fillna(0), (df.ageF).fillna(0))\n",
    "\n"
   ]
  },
  {
   "cell_type": "markdown",
   "metadata": {},
   "source": [
    "###Result\n",
    "H0 : Both ageM and ageF are derived from the same parent distribution.\n",
    "\n",
    "The age of male and female is inversly corelated."
   ]
  },
  {
   "cell_type": "markdown",
   "metadata": {},
   "source": [
    "##DO THE SAME FOR THE DISTRIBUTION OF RIDERS DURING THE DAY VS DURING THE NIGHT!"
   ]
  },
  {
   "cell_type": "code",
   "execution_count": 94,
   "metadata": {
    "collapsed": false
   },
   "outputs": [],
   "source": [
    "df = pd.read_csv(os.getenv('PUI2015')+\"/201506-citibike-tripdata.csv\",parse_dates=['starttime'])\n",
    "\n"
   ]
  },
  {
   "cell_type": "code",
   "execution_count": 95,
   "metadata": {
    "collapsed": false
   },
   "outputs": [],
   "source": [
    "#Adding the columns for the age of bikers in day and in night\n",
    "df['ageD'] = 2015-df['birth year'][(df['usertype'] == 'Subscriber') & (df['starttime'].dt.hour <18)]\n",
    "df['ageN'] = 2015-df['birth year'][(df['usertype'] == 'Subscriber') & (df['starttime'].dt.hour >=18)]\n",
    "df.ageN.describe()\n",
    "df.ageD.describe()"
   ]
  },
  {
   "cell_type": "code",
   "execution_count": 115,
   "metadata": {
    "collapsed": false
   },
   "outputs": [
    {
     "data": {
      "text/plain": [
       "<matplotlib.axes._subplots.AxesSubplot at 0x10943a810>"
      ]
     },
     "execution_count": 115,
     "metadata": {},
     "output_type": "execute_result"
    },
    {
     "data": {
      "image/png": "[encoded data removed]",
      "text/plain": [
       "<matplotlib.figure.Figure at 0x11110f9d0>"
      ]
     },
     "metadata": {},
     "output_type": "display_data"
    },
    {
     "data": {
      "image/png": "[encoded data removed]",
      "text/plain": [
       "<matplotlib.figure.Figure at 0x10b63b250>"
      ]
     },
     "metadata": {},
     "output_type": "display_data"
    }
   ],
   "source": [
    "# creatingthe bins for the age and plotting the age day and age night bar plots\n",
    "\n",
    "bins = np.arange(10, 99, 10)\n",
    "df.ageD.groupby(pd.cut(df.ageD, bins)).agg([count_nonzero]).plot(kind='bar')\n",
    "df.ageN.groupby(pd.cut(df.ageN, bins)).agg([count_nonzero]).plot(kind='bar')"
   ]
  },
  {
   "cell_type": "code",
   "execution_count": 97,
   "metadata": {
    "collapsed": false
   },
   "outputs": [],
   "source": [
    "#Calculating the CDF.\n",
    "\n",
    "cdfD = df.ageD.groupby(pd.cut(df.ageD, bins)).agg([count_nonzero])\n",
    "cdfN = df.ageN.groupby(pd.cut(df.ageN, bins)).agg([count_nonzero])\n",
    "\n"
   ]
  },
  {
   "cell_type": "code",
   "execution_count": 98,
   "metadata": {
    "collapsed": false
   },
   "outputs": [
    {
     "name": "stdout",
     "output_type": "stream",
     "text": [
      "          count_nonzero\n",
      "ageD                   \n",
      "(10, 20]       0.000805\n",
      "(20, 30]       0.200326\n",
      "(30, 40]       0.013163\n",
      "(40, 50]       0.187981\n",
      "(50, 60]       0.149054\n",
      "(60, 70]       0.052900\n",
      "(70, 80]       0.008308\n",
      "(80, 90]       0.000139\n"
     ]
    },
    {
     "data": {
      "text/plain": [
       "<matplotlib.legend.Legend at 0x111de4150>"
      ]
     },
     "execution_count": 98,
     "metadata": {},
     "output_type": "execute_result"
    },
    {
     "data": {
      "image/png": "[encoded data removed]",
      "text/plain": [
       "<matplotlib.figure.Figure at 0x10e683350>"
      ]
     },
     "metadata": {},
     "output_type": "display_data"
    }
   ],
   "source": [
    "print np.abs(cdfD / cdfD.max()-cdfN / cdfN.max())\n",
    "\n",
    "pl.plot(bins[:-1] + 5, cdfD / cdfD.max(), label = \"Age in Day Count\")\n",
    "pl.plot(bins[:-1] + 5, cdfN / cdfN.max(), label = \"Age in Night  Count\")\n",
    "pl.legend()"
   ]
  },
  {
   "cell_type": "markdown",
   "metadata": {},
   "source": [
    "###KS Test"
   ]
  },
  {
   "cell_type": "code",
   "execution_count": 106,
   "metadata": {
    "collapsed": false
   },
   "outputs": [
    {
     "name": "stdout",
     "output_type": "stream",
     "text": [
      "(0.36215907243691425, 0.0)\n",
      "sig value =  0.0\n"
     ]
    }
   ],
   "source": [
    "#print (df['ageD'])\n",
    "ks=scipy.stats.ks_2samp(df.ageD, df.ageN)\n",
    "print ks\n",
    "n1= len(df.ageD)\n",
    "n2 = len(df.ageN)\n",
    "## finding the significant value at alpa = 0.05\n",
    "sum = n1+n2\n",
    "mul = n1*n2\n",
    "sig_value = 1.36*sqrt(sum/mul)\n",
    "print 'sig value = ', sig_value"
   ]
  },
  {
   "cell_type": "markdown",
   "metadata": {},
   "source": [
    "##KS Test result\n",
    "H0 : Both ageM and ageF are derived from the same parent distribution. \n",
    "\n",
    "The ks value = 0.36 and the reference value is ~0.0 => => DKS(n1,n2)<c(α)(n1+n2)n1n2 This implies that the null hypothesis is rejected.\n"
   ]
  },
  {
   "cell_type": "markdown",
   "metadata": {},
   "source": [
    "###pearsons test\n"
   ]
  },
  {
   "cell_type": "code",
   "execution_count": 107,
   "metadata": {
    "collapsed": false
   },
   "outputs": [
    {
     "data": {
      "text/plain": [
       "(array([ 0.96194828]), array([ 0.00013384]))"
      ]
     },
     "execution_count": 107,
     "metadata": {},
     "output_type": "execute_result"
    }
   ],
   "source": [
    "# As both the sample sizes are same so we can calculate the pearsons test in them.\n",
    "#scipy.stats.pearsonr((df.ageD).fillna(0),(df.ageN).fillna(0))\n",
    "scipy.stats.pearsonr((cdfD),(cdfN))\n"
   ]
  },
  {
   "cell_type": "markdown",
   "metadata": {},
   "source": [
    "H0 : Both ageM and ageF are derived from the same parent distribution. \n",
    "\n",
    "The correlation exists between both the sample data"
   ]
  },
  {
   "cell_type": "markdown",
   "metadata": {},
   "source": [
    "\n",
    "###Spearson Test"
   ]
  },
  {
   "cell_type": "code",
   "execution_count": 109,
   "metadata": {
    "collapsed": false
   },
   "outputs": [
    {
     "data": {
      "text/plain": [
       "(0.97619047619047616, 3.3143960262001457e-05)"
      ]
     },
     "execution_count": 109,
     "metadata": {},
     "output_type": "execute_result"
    }
   ],
   "source": [
    "scipy.stats.spearmanr(cdfD,cdfN)"
   ]
  },
  {
   "cell_type": "markdown",
   "metadata": {
    "collapsed": true
   },
   "source": [
    "H0 : Both ageM and ageF are derived from the same parent distribution. \n",
    "\n",
    "The correlation exists between both the sample data"
   ]
  },
  {
   "cell_type": "code",
   "execution_count": null,
   "metadata": {
    "collapsed": true
   },
   "outputs": [],
   "source": []
  }
 ],
 "metadata": {
  "kernelspec": {
   "display_name": "Python 2",
   "language": "python",
   "name": "python2"
  },
  "language_info": {
   "codemirror_mode": {
    "name": "ipython",
    "version": 2
   },
   "file_extension": ".py",
   "mimetype": "text/x-python",
   "name": "python",
   "nbconvert_exporter": "python",
   "pygments_lexer": "ipython2",
   "version": "2.7.10"
  }
 },
 "nbformat": 4,
 "nbformat_minor": 0
}
